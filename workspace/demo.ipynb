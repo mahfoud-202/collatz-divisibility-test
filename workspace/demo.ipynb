{
 "cells": [
  {
   "cell_type": "markdown",
   "id": "c16c15eb",
   "metadata": {},
   "source": []
  },
  {
   "cell_type": "markdown",
   "id": "0ac7598f",
   "metadata": {},
   "source": [
    "# Testing"
   ]
  },
  {
   "cell_type": "code",
   "execution_count": 1,
   "id": "928264d2-72da-4e18-adb4-ae0efa5b8a6e",
   "metadata": {},
   "outputs": [],
   "source": [
    "from divtest import is_a_divisible_by_b"
   ]
  },
  {
   "cell_type": "code",
   "execution_count": 2,
   "id": "fa8aee9d",
   "metadata": {},
   "outputs": [
    {
     "name": "stdout",
     "output_type": "stream",
     "text": [
      "True\n"
     ]
    }
   ],
   "source": [
    "print(is_a_divisible_by_b(25, 5))"
   ]
  },
  {
   "cell_type": "code",
   "execution_count": 3,
   "id": "d189351c",
   "metadata": {},
   "outputs": [
    {
     "name": "stdout",
     "output_type": "stream",
     "text": [
      "True\n"
     ]
    }
   ],
   "source": [
    "print(is_a_divisible_by_b(715, 55))"
   ]
  },
  {
   "cell_type": "code",
   "execution_count": 4,
   "id": "85065734",
   "metadata": {},
   "outputs": [
    {
     "name": "stdout",
     "output_type": "stream",
     "text": [
      "True\n"
     ]
    }
   ],
   "source": [
    "print(is_a_divisible_by_b(49, 7))"
   ]
  },
  {
   "cell_type": "code",
   "execution_count": 5,
   "id": "8a83692c",
   "metadata": {},
   "outputs": [
    {
     "name": "stdout",
     "output_type": "stream",
     "text": [
      "False\n"
     ]
    }
   ],
   "source": [
    "print(is_a_divisible_by_b(49, 5))"
   ]
  },
  {
   "cell_type": "code",
   "execution_count": 6,
   "id": "45d243d2",
   "metadata": {},
   "outputs": [
    {
     "name": "stdout",
     "output_type": "stream",
     "text": [
      "True\n"
     ]
    }
   ],
   "source": [
    "print(is_a_divisible_by_b(115, 23))"
   ]
  },
  {
   "cell_type": "code",
   "execution_count": 7,
   "id": "ebc1a882",
   "metadata": {},
   "outputs": [
    {
     "name": "stdout",
     "output_type": "stream",
     "text": [
      "False\n"
     ]
    }
   ],
   "source": [
    "print(is_a_divisible_by_b(115, 29))"
   ]
  },
  {
   "cell_type": "code",
   "execution_count": 8,
   "id": "12fdeb19",
   "metadata": {},
   "outputs": [
    {
     "name": "stdout",
     "output_type": "stream",
     "text": [
      "False\n"
     ]
    }
   ],
   "source": [
    "print(is_a_divisible_by_b(115, 7))"
   ]
  },
  {
   "cell_type": "code",
   "execution_count": null,
   "id": "f2b16c50",
   "metadata": {},
   "outputs": [],
   "source": []
  }
 ],
 "metadata": {
  "kernelspec": {
   "display_name": ".venv",
   "language": "python",
   "name": "python3"
  },
  "language_info": {
   "codemirror_mode": {
    "name": "ipython",
    "version": 3
   },
   "file_extension": ".py",
   "mimetype": "text/x-python",
   "name": "python",
   "nbconvert_exporter": "python",
   "pygments_lexer": "ipython3",
   "version": "3.10.16"
  }
 },
 "nbformat": 4,
 "nbformat_minor": 5
}
